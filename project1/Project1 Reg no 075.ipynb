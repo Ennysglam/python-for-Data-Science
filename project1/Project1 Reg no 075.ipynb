{
 "cells": [
  {
   "cell_type": "markdown",
   "id": "3fbe6255",
   "metadata": {},
   "source": [
    "\\## Reg no 075"
   ]
  },
  {
   "cell_type": "code",
   "execution_count": 1,
   "id": "1f342cda",
   "metadata": {},
   "outputs": [],
   "source": [
    "import numpy as np\n",
    "\n",
    "import pandas as pd"
   ]
  },
  {
   "cell_type": "code",
   "execution_count": 2,
   "id": "76ad0096",
   "metadata": {},
   "outputs": [],
   "source": [
    "Student = {'Name': ['Bola', 'Loveth', 'Bassey','Dara','Wills', 'Jane', 'chris', 'Cara', 'Smith','Shola'], \n",
    "           'Age': [24,23,19,18,21,22,24,26,25,28], \n",
    "           'Relationship_Status': ['Single', 'Married', 'Single', 'Divorced', 'Married', 'Single', 'Divorced','Married', 'Single', 'Divorced'],\n",
    "          'Department':['Biology', 'Biochemistry', 'History', 'Forestry', 'Law', 'Music', 'Mathematics', 'Chemistry', 'Accounting','Insurance']}"
   ]
  },
  {
   "cell_type": "code",
   "execution_count": 3,
   "id": "5c781bbf",
   "metadata": {},
   "outputs": [
    {
     "data": {
      "text/plain": [
       "{'Name': ['Bola',\n",
       "  'Loveth',\n",
       "  'Bassey',\n",
       "  'Dara',\n",
       "  'Wills',\n",
       "  'Jane',\n",
       "  'chris',\n",
       "  'Cara',\n",
       "  'Smith',\n",
       "  'Shola'],\n",
       " 'Age': [24, 23, 19, 18, 21, 22, 24, 26, 25, 28],\n",
       " 'Relationship_Status': ['Single',\n",
       "  'Married',\n",
       "  'Single',\n",
       "  'Divorced',\n",
       "  'Married',\n",
       "  'Single',\n",
       "  'Divorced',\n",
       "  'Married',\n",
       "  'Single',\n",
       "  'Divorced'],\n",
       " 'Department': ['Biology',\n",
       "  'Biochemistry',\n",
       "  'History',\n",
       "  'Forestry',\n",
       "  'Law',\n",
       "  'Music',\n",
       "  'Mathematics',\n",
       "  'Chemistry',\n",
       "  'Accounting',\n",
       "  'Insurance']}"
      ]
     },
     "execution_count": 3,
     "metadata": {},
     "output_type": "execute_result"
    }
   ],
   "source": [
    "Student"
   ]
  },
  {
   "cell_type": "code",
   "execution_count": 4,
   "id": "951d04e4",
   "metadata": {},
   "outputs": [],
   "source": [
    "Student['CGPA']= [3.1, 4.2, 3.9, 1.8, 2.9, 3.8, 4.5, 4.8, 2.2, 1.5 ]"
   ]
  },
  {
   "cell_type": "code",
   "execution_count": 5,
   "id": "eed2e35f",
   "metadata": {},
   "outputs": [
    {
     "data": {
      "text/plain": [
       "{'Name': ['Bola',\n",
       "  'Loveth',\n",
       "  'Bassey',\n",
       "  'Dara',\n",
       "  'Wills',\n",
       "  'Jane',\n",
       "  'chris',\n",
       "  'Cara',\n",
       "  'Smith',\n",
       "  'Shola'],\n",
       " 'Age': [24, 23, 19, 18, 21, 22, 24, 26, 25, 28],\n",
       " 'Relationship_Status': ['Single',\n",
       "  'Married',\n",
       "  'Single',\n",
       "  'Divorced',\n",
       "  'Married',\n",
       "  'Single',\n",
       "  'Divorced',\n",
       "  'Married',\n",
       "  'Single',\n",
       "  'Divorced'],\n",
       " 'Department': ['Biology',\n",
       "  'Biochemistry',\n",
       "  'History',\n",
       "  'Forestry',\n",
       "  'Law',\n",
       "  'Music',\n",
       "  'Mathematics',\n",
       "  'Chemistry',\n",
       "  'Accounting',\n",
       "  'Insurance'],\n",
       " 'CGPA': [3.1, 4.2, 3.9, 1.8, 2.9, 3.8, 4.5, 4.8, 2.2, 1.5]}"
      ]
     },
     "execution_count": 5,
     "metadata": {},
     "output_type": "execute_result"
    }
   ],
   "source": [
    "Student"
   ]
  },
  {
   "cell_type": "code",
   "execution_count": 5,
   "id": "43f82cea",
   "metadata": {},
   "outputs": [
    {
     "data": {
      "text/plain": [
       "['Single',\n",
       " 'Married',\n",
       " 'Single',\n",
       " 'Divorced',\n",
       " 'Married',\n",
       " 'Single',\n",
       " 'Divorced',\n",
       " 'Married',\n",
       " 'Single',\n",
       " 'Divorced']"
      ]
     },
     "execution_count": 5,
     "metadata": {},
     "output_type": "execute_result"
    }
   ],
   "source": [
    "Student.pop('Relationship_Status')"
   ]
  },
  {
   "cell_type": "code",
   "execution_count": 6,
   "id": "ffc51c59",
   "metadata": {},
   "outputs": [
    {
     "data": {
      "text/plain": [
       "{'Name': ['Bola',\n",
       "  'Loveth',\n",
       "  'Bassey',\n",
       "  'Dara',\n",
       "  'Wills',\n",
       "  'Jane',\n",
       "  'chris',\n",
       "  'Cara',\n",
       "  'Smith',\n",
       "  'Shola'],\n",
       " 'Age': [24, 23, 19, 18, 21, 22, 24, 26, 25, 28],\n",
       " 'Department': ['Biology',\n",
       "  'Biochemistry',\n",
       "  'History',\n",
       "  'Forestry',\n",
       "  'Law',\n",
       "  'Music',\n",
       "  'Mathematics',\n",
       "  'Chemistry',\n",
       "  'Accounting',\n",
       "  'Insurance'],\n",
       " 'CGPA': [3.1, 4.2, 3.9, 1.8, 2.9, 3.8, 4.5, 4.8, 2.2, 1.5]}"
      ]
     },
     "execution_count": 6,
     "metadata": {},
     "output_type": "execute_result"
    }
   ],
   "source": [
    "Student"
   ]
  },
  {
   "cell_type": "code",
   "execution_count": 7,
   "id": "d6a415bc",
   "metadata": {},
   "outputs": [],
   "source": [
    "df = pd.DataFrame(Student)"
   ]
  },
  {
   "cell_type": "code",
   "execution_count": 8,
   "id": "6201a634",
   "metadata": {},
   "outputs": [
    {
     "data": {
      "text/html": [
       "<div>\n",
       "<style scoped>\n",
       "    .dataframe tbody tr th:only-of-type {\n",
       "        vertical-align: middle;\n",
       "    }\n",
       "\n",
       "    .dataframe tbody tr th {\n",
       "        vertical-align: top;\n",
       "    }\n",
       "\n",
       "    .dataframe thead th {\n",
       "        text-align: right;\n",
       "    }\n",
       "</style>\n",
       "<table border=\"1\" class=\"dataframe\">\n",
       "  <thead>\n",
       "    <tr style=\"text-align: right;\">\n",
       "      <th></th>\n",
       "      <th>Name</th>\n",
       "      <th>Age</th>\n",
       "      <th>Department</th>\n",
       "      <th>CGPA</th>\n",
       "    </tr>\n",
       "  </thead>\n",
       "  <tbody>\n",
       "    <tr>\n",
       "      <th>0</th>\n",
       "      <td>Bola</td>\n",
       "      <td>24</td>\n",
       "      <td>Biology</td>\n",
       "      <td>3.1</td>\n",
       "    </tr>\n",
       "    <tr>\n",
       "      <th>1</th>\n",
       "      <td>Loveth</td>\n",
       "      <td>23</td>\n",
       "      <td>Biochemistry</td>\n",
       "      <td>4.2</td>\n",
       "    </tr>\n",
       "    <tr>\n",
       "      <th>2</th>\n",
       "      <td>Bassey</td>\n",
       "      <td>19</td>\n",
       "      <td>History</td>\n",
       "      <td>3.9</td>\n",
       "    </tr>\n",
       "    <tr>\n",
       "      <th>3</th>\n",
       "      <td>Dara</td>\n",
       "      <td>18</td>\n",
       "      <td>Forestry</td>\n",
       "      <td>1.8</td>\n",
       "    </tr>\n",
       "    <tr>\n",
       "      <th>4</th>\n",
       "      <td>Wills</td>\n",
       "      <td>21</td>\n",
       "      <td>Law</td>\n",
       "      <td>2.9</td>\n",
       "    </tr>\n",
       "    <tr>\n",
       "      <th>5</th>\n",
       "      <td>Jane</td>\n",
       "      <td>22</td>\n",
       "      <td>Music</td>\n",
       "      <td>3.8</td>\n",
       "    </tr>\n",
       "    <tr>\n",
       "      <th>6</th>\n",
       "      <td>chris</td>\n",
       "      <td>24</td>\n",
       "      <td>Mathematics</td>\n",
       "      <td>4.5</td>\n",
       "    </tr>\n",
       "    <tr>\n",
       "      <th>7</th>\n",
       "      <td>Cara</td>\n",
       "      <td>26</td>\n",
       "      <td>Chemistry</td>\n",
       "      <td>4.8</td>\n",
       "    </tr>\n",
       "    <tr>\n",
       "      <th>8</th>\n",
       "      <td>Smith</td>\n",
       "      <td>25</td>\n",
       "      <td>Accounting</td>\n",
       "      <td>2.2</td>\n",
       "    </tr>\n",
       "    <tr>\n",
       "      <th>9</th>\n",
       "      <td>Shola</td>\n",
       "      <td>28</td>\n",
       "      <td>Insurance</td>\n",
       "      <td>1.5</td>\n",
       "    </tr>\n",
       "  </tbody>\n",
       "</table>\n",
       "</div>"
      ],
      "text/plain": [
       "     Name  Age    Department  CGPA\n",
       "0    Bola   24       Biology   3.1\n",
       "1  Loveth   23  Biochemistry   4.2\n",
       "2  Bassey   19       History   3.9\n",
       "3    Dara   18      Forestry   1.8\n",
       "4   Wills   21           Law   2.9\n",
       "5    Jane   22         Music   3.8\n",
       "6   chris   24   Mathematics   4.5\n",
       "7    Cara   26     Chemistry   4.8\n",
       "8   Smith   25    Accounting   2.2\n",
       "9   Shola   28     Insurance   1.5"
      ]
     },
     "execution_count": 8,
     "metadata": {},
     "output_type": "execute_result"
    }
   ],
   "source": [
    "df"
   ]
  },
  {
   "cell_type": "code",
   "execution_count": 9,
   "id": "b2b1274e",
   "metadata": {},
   "outputs": [],
   "source": [
    "df['Admission_date']= '2021-9-14', '2019-9-12', '2018-9-19', '2021-9-1', '2017-9-5', '2016-9-9', '2019-9-2', '2020-9-28', '2020-9-16', '2017-9-13'\n",
    "df['Gender'] = 'Male', 'Female', 'Male', 'Female' ,'Male', 'Female' ,'Male', 'Female', 'Male', 'Female'"
   ]
  },
  {
   "cell_type": "code",
   "execution_count": 10,
   "id": "96e8eb06",
   "metadata": {},
   "outputs": [
    {
     "data": {
      "text/html": [
       "<div>\n",
       "<style scoped>\n",
       "    .dataframe tbody tr th:only-of-type {\n",
       "        vertical-align: middle;\n",
       "    }\n",
       "\n",
       "    .dataframe tbody tr th {\n",
       "        vertical-align: top;\n",
       "    }\n",
       "\n",
       "    .dataframe thead th {\n",
       "        text-align: right;\n",
       "    }\n",
       "</style>\n",
       "<table border=\"1\" class=\"dataframe\">\n",
       "  <thead>\n",
       "    <tr style=\"text-align: right;\">\n",
       "      <th></th>\n",
       "      <th>Name</th>\n",
       "      <th>Age</th>\n",
       "      <th>Department</th>\n",
       "      <th>CGPA</th>\n",
       "      <th>Admission_date</th>\n",
       "      <th>Gender</th>\n",
       "    </tr>\n",
       "  </thead>\n",
       "  <tbody>\n",
       "    <tr>\n",
       "      <th>0</th>\n",
       "      <td>Bola</td>\n",
       "      <td>24</td>\n",
       "      <td>Biology</td>\n",
       "      <td>3.1</td>\n",
       "      <td>2021-9-14</td>\n",
       "      <td>Male</td>\n",
       "    </tr>\n",
       "    <tr>\n",
       "      <th>1</th>\n",
       "      <td>Loveth</td>\n",
       "      <td>23</td>\n",
       "      <td>Biochemistry</td>\n",
       "      <td>4.2</td>\n",
       "      <td>2019-9-12</td>\n",
       "      <td>Female</td>\n",
       "    </tr>\n",
       "    <tr>\n",
       "      <th>2</th>\n",
       "      <td>Bassey</td>\n",
       "      <td>19</td>\n",
       "      <td>History</td>\n",
       "      <td>3.9</td>\n",
       "      <td>2018-9-19</td>\n",
       "      <td>Male</td>\n",
       "    </tr>\n",
       "    <tr>\n",
       "      <th>3</th>\n",
       "      <td>Dara</td>\n",
       "      <td>18</td>\n",
       "      <td>Forestry</td>\n",
       "      <td>1.8</td>\n",
       "      <td>2021-9-1</td>\n",
       "      <td>Female</td>\n",
       "    </tr>\n",
       "    <tr>\n",
       "      <th>4</th>\n",
       "      <td>Wills</td>\n",
       "      <td>21</td>\n",
       "      <td>Law</td>\n",
       "      <td>2.9</td>\n",
       "      <td>2017-9-5</td>\n",
       "      <td>Male</td>\n",
       "    </tr>\n",
       "    <tr>\n",
       "      <th>5</th>\n",
       "      <td>Jane</td>\n",
       "      <td>22</td>\n",
       "      <td>Music</td>\n",
       "      <td>3.8</td>\n",
       "      <td>2016-9-9</td>\n",
       "      <td>Female</td>\n",
       "    </tr>\n",
       "    <tr>\n",
       "      <th>6</th>\n",
       "      <td>chris</td>\n",
       "      <td>24</td>\n",
       "      <td>Mathematics</td>\n",
       "      <td>4.5</td>\n",
       "      <td>2019-9-2</td>\n",
       "      <td>Male</td>\n",
       "    </tr>\n",
       "    <tr>\n",
       "      <th>7</th>\n",
       "      <td>Cara</td>\n",
       "      <td>26</td>\n",
       "      <td>Chemistry</td>\n",
       "      <td>4.8</td>\n",
       "      <td>2020-9-28</td>\n",
       "      <td>Female</td>\n",
       "    </tr>\n",
       "    <tr>\n",
       "      <th>8</th>\n",
       "      <td>Smith</td>\n",
       "      <td>25</td>\n",
       "      <td>Accounting</td>\n",
       "      <td>2.2</td>\n",
       "      <td>2020-9-16</td>\n",
       "      <td>Male</td>\n",
       "    </tr>\n",
       "    <tr>\n",
       "      <th>9</th>\n",
       "      <td>Shola</td>\n",
       "      <td>28</td>\n",
       "      <td>Insurance</td>\n",
       "      <td>1.5</td>\n",
       "      <td>2017-9-13</td>\n",
       "      <td>Female</td>\n",
       "    </tr>\n",
       "  </tbody>\n",
       "</table>\n",
       "</div>"
      ],
      "text/plain": [
       "     Name  Age    Department  CGPA Admission_date  Gender\n",
       "0    Bola   24       Biology   3.1      2021-9-14    Male\n",
       "1  Loveth   23  Biochemistry   4.2      2019-9-12  Female\n",
       "2  Bassey   19       History   3.9      2018-9-19    Male\n",
       "3    Dara   18      Forestry   1.8       2021-9-1  Female\n",
       "4   Wills   21           Law   2.9       2017-9-5    Male\n",
       "5    Jane   22         Music   3.8       2016-9-9  Female\n",
       "6   chris   24   Mathematics   4.5       2019-9-2    Male\n",
       "7    Cara   26     Chemistry   4.8      2020-9-28  Female\n",
       "8   Smith   25    Accounting   2.2      2020-9-16    Male\n",
       "9   Shola   28     Insurance   1.5      2017-9-13  Female"
      ]
     },
     "execution_count": 10,
     "metadata": {},
     "output_type": "execute_result"
    }
   ],
   "source": [
    "df"
   ]
  },
  {
   "cell_type": "code",
   "execution_count": 11,
   "id": "6aa7dcb9",
   "metadata": {},
   "outputs": [],
   "source": [
    "name =['Tunde', 'Kate', 'Bassey','Ada','Wills', 'Jane', 'chris', 'Etim', 'Smith','Karen'] \n",
    "\n",
    "age = [24,23,19,18,21,22,24,26,25,28]\n",
    "\n",
    "department = ['Biology', 'Biochemistry', 'History', 'Forestry', 'Law', 'Music', 'Mathematics', 'Chemistry', 'Accounting','Insurance']\n",
    "\n",
    "admission_date= ['2021-9-14', '2019-9-12', '2018-9-19', '2021-9-1', '2017-9-5', '2016-9-9', '2019-9-2', '2020-9-28', '2020-9-16', '2017-9-13']\n",
    "\n",
    "gender = ['Male', 'Female', 'Male', 'Female' ,'Male', 'Female' ,'Male', 'Female', 'Male', 'Female']\n",
    "\n",
    "\n",
    "df2=pd.DataFrame({'Name':name, 'Age':age, 'Department':department, 'Gender':gender,'Admission_date':admission_date})"
   ]
  },
  {
   "cell_type": "code",
   "execution_count": 12,
   "id": "ee9502d5",
   "metadata": {},
   "outputs": [
    {
     "data": {
      "text/html": [
       "<div>\n",
       "<style scoped>\n",
       "    .dataframe tbody tr th:only-of-type {\n",
       "        vertical-align: middle;\n",
       "    }\n",
       "\n",
       "    .dataframe tbody tr th {\n",
       "        vertical-align: top;\n",
       "    }\n",
       "\n",
       "    .dataframe thead th {\n",
       "        text-align: right;\n",
       "    }\n",
       "</style>\n",
       "<table border=\"1\" class=\"dataframe\">\n",
       "  <thead>\n",
       "    <tr style=\"text-align: right;\">\n",
       "      <th></th>\n",
       "      <th>Name</th>\n",
       "      <th>Age</th>\n",
       "      <th>Department</th>\n",
       "      <th>Gender</th>\n",
       "      <th>Admission_date</th>\n",
       "    </tr>\n",
       "  </thead>\n",
       "  <tbody>\n",
       "    <tr>\n",
       "      <th>0</th>\n",
       "      <td>Tunde</td>\n",
       "      <td>24</td>\n",
       "      <td>Biology</td>\n",
       "      <td>Male</td>\n",
       "      <td>2021-9-14</td>\n",
       "    </tr>\n",
       "    <tr>\n",
       "      <th>1</th>\n",
       "      <td>Kate</td>\n",
       "      <td>23</td>\n",
       "      <td>Biochemistry</td>\n",
       "      <td>Female</td>\n",
       "      <td>2019-9-12</td>\n",
       "    </tr>\n",
       "    <tr>\n",
       "      <th>2</th>\n",
       "      <td>Bassey</td>\n",
       "      <td>19</td>\n",
       "      <td>History</td>\n",
       "      <td>Male</td>\n",
       "      <td>2018-9-19</td>\n",
       "    </tr>\n",
       "    <tr>\n",
       "      <th>3</th>\n",
       "      <td>Ada</td>\n",
       "      <td>18</td>\n",
       "      <td>Forestry</td>\n",
       "      <td>Female</td>\n",
       "      <td>2021-9-1</td>\n",
       "    </tr>\n",
       "    <tr>\n",
       "      <th>4</th>\n",
       "      <td>Wills</td>\n",
       "      <td>21</td>\n",
       "      <td>Law</td>\n",
       "      <td>Male</td>\n",
       "      <td>2017-9-5</td>\n",
       "    </tr>\n",
       "    <tr>\n",
       "      <th>5</th>\n",
       "      <td>Jane</td>\n",
       "      <td>22</td>\n",
       "      <td>Music</td>\n",
       "      <td>Female</td>\n",
       "      <td>2016-9-9</td>\n",
       "    </tr>\n",
       "    <tr>\n",
       "      <th>6</th>\n",
       "      <td>chris</td>\n",
       "      <td>24</td>\n",
       "      <td>Mathematics</td>\n",
       "      <td>Male</td>\n",
       "      <td>2019-9-2</td>\n",
       "    </tr>\n",
       "    <tr>\n",
       "      <th>7</th>\n",
       "      <td>Etim</td>\n",
       "      <td>26</td>\n",
       "      <td>Chemistry</td>\n",
       "      <td>Female</td>\n",
       "      <td>2020-9-28</td>\n",
       "    </tr>\n",
       "    <tr>\n",
       "      <th>8</th>\n",
       "      <td>Smith</td>\n",
       "      <td>25</td>\n",
       "      <td>Accounting</td>\n",
       "      <td>Male</td>\n",
       "      <td>2020-9-16</td>\n",
       "    </tr>\n",
       "    <tr>\n",
       "      <th>9</th>\n",
       "      <td>Karen</td>\n",
       "      <td>28</td>\n",
       "      <td>Insurance</td>\n",
       "      <td>Female</td>\n",
       "      <td>2017-9-13</td>\n",
       "    </tr>\n",
       "  </tbody>\n",
       "</table>\n",
       "</div>"
      ],
      "text/plain": [
       "     Name  Age    Department  Gender Admission_date\n",
       "0   Tunde   24       Biology    Male      2021-9-14\n",
       "1    Kate   23  Biochemistry  Female      2019-9-12\n",
       "2  Bassey   19       History    Male      2018-9-19\n",
       "3     Ada   18      Forestry  Female       2021-9-1\n",
       "4   Wills   21           Law    Male       2017-9-5\n",
       "5    Jane   22         Music  Female       2016-9-9\n",
       "6   chris   24   Mathematics    Male       2019-9-2\n",
       "7    Etim   26     Chemistry  Female      2020-9-28\n",
       "8   Smith   25    Accounting    Male      2020-9-16\n",
       "9   Karen   28     Insurance  Female      2017-9-13"
      ]
     },
     "execution_count": 12,
     "metadata": {},
     "output_type": "execute_result"
    }
   ],
   "source": [
    "df2"
   ]
  },
  {
   "cell_type": "code",
   "execution_count": 16,
   "id": "1363a37f",
   "metadata": {},
   "outputs": [],
   "source": [
    "import datetime as dt"
   ]
  },
  {
   "cell_type": "code",
   "execution_count": 20,
   "id": "73a3db0b",
   "metadata": {},
   "outputs": [],
   "source": [
    "df['Admission_date'] = pd.to_datetime (df['Admission_date'])"
   ]
  },
  {
   "cell_type": "code",
   "execution_count": 21,
   "id": "83f29d15",
   "metadata": {},
   "outputs": [
    {
     "data": {
      "text/html": [
       "<div>\n",
       "<style scoped>\n",
       "    .dataframe tbody tr th:only-of-type {\n",
       "        vertical-align: middle;\n",
       "    }\n",
       "\n",
       "    .dataframe tbody tr th {\n",
       "        vertical-align: top;\n",
       "    }\n",
       "\n",
       "    .dataframe thead th {\n",
       "        text-align: right;\n",
       "    }\n",
       "</style>\n",
       "<table border=\"1\" class=\"dataframe\">\n",
       "  <thead>\n",
       "    <tr style=\"text-align: right;\">\n",
       "      <th></th>\n",
       "      <th>Name</th>\n",
       "      <th>Age</th>\n",
       "      <th>Department</th>\n",
       "      <th>CGPA</th>\n",
       "      <th>Admission_date</th>\n",
       "      <th>Gender</th>\n",
       "    </tr>\n",
       "  </thead>\n",
       "  <tbody>\n",
       "    <tr>\n",
       "      <th>0</th>\n",
       "      <td>Bola</td>\n",
       "      <td>24</td>\n",
       "      <td>Biology</td>\n",
       "      <td>3.1</td>\n",
       "      <td>2021-09-14</td>\n",
       "      <td>Male</td>\n",
       "    </tr>\n",
       "    <tr>\n",
       "      <th>1</th>\n",
       "      <td>Loveth</td>\n",
       "      <td>23</td>\n",
       "      <td>Biochemistry</td>\n",
       "      <td>4.2</td>\n",
       "      <td>2019-09-12</td>\n",
       "      <td>Female</td>\n",
       "    </tr>\n",
       "    <tr>\n",
       "      <th>2</th>\n",
       "      <td>Bassey</td>\n",
       "      <td>19</td>\n",
       "      <td>History</td>\n",
       "      <td>3.9</td>\n",
       "      <td>2018-09-19</td>\n",
       "      <td>Male</td>\n",
       "    </tr>\n",
       "    <tr>\n",
       "      <th>3</th>\n",
       "      <td>Dara</td>\n",
       "      <td>18</td>\n",
       "      <td>Forestry</td>\n",
       "      <td>1.8</td>\n",
       "      <td>2021-09-01</td>\n",
       "      <td>Female</td>\n",
       "    </tr>\n",
       "    <tr>\n",
       "      <th>4</th>\n",
       "      <td>Wills</td>\n",
       "      <td>21</td>\n",
       "      <td>Law</td>\n",
       "      <td>2.9</td>\n",
       "      <td>2017-09-05</td>\n",
       "      <td>Male</td>\n",
       "    </tr>\n",
       "    <tr>\n",
       "      <th>5</th>\n",
       "      <td>Jane</td>\n",
       "      <td>22</td>\n",
       "      <td>Music</td>\n",
       "      <td>3.8</td>\n",
       "      <td>2016-09-09</td>\n",
       "      <td>Female</td>\n",
       "    </tr>\n",
       "    <tr>\n",
       "      <th>6</th>\n",
       "      <td>chris</td>\n",
       "      <td>24</td>\n",
       "      <td>Mathematics</td>\n",
       "      <td>4.5</td>\n",
       "      <td>2019-09-02</td>\n",
       "      <td>Male</td>\n",
       "    </tr>\n",
       "    <tr>\n",
       "      <th>7</th>\n",
       "      <td>Cara</td>\n",
       "      <td>26</td>\n",
       "      <td>Chemistry</td>\n",
       "      <td>4.8</td>\n",
       "      <td>2020-09-28</td>\n",
       "      <td>Female</td>\n",
       "    </tr>\n",
       "    <tr>\n",
       "      <th>8</th>\n",
       "      <td>Smith</td>\n",
       "      <td>25</td>\n",
       "      <td>Accounting</td>\n",
       "      <td>2.2</td>\n",
       "      <td>2020-09-16</td>\n",
       "      <td>Male</td>\n",
       "    </tr>\n",
       "    <tr>\n",
       "      <th>9</th>\n",
       "      <td>Shola</td>\n",
       "      <td>28</td>\n",
       "      <td>Insurance</td>\n",
       "      <td>1.5</td>\n",
       "      <td>2017-09-13</td>\n",
       "      <td>Female</td>\n",
       "    </tr>\n",
       "  </tbody>\n",
       "</table>\n",
       "</div>"
      ],
      "text/plain": [
       "     Name  Age    Department  CGPA Admission_date  Gender\n",
       "0    Bola   24       Biology   3.1     2021-09-14    Male\n",
       "1  Loveth   23  Biochemistry   4.2     2019-09-12  Female\n",
       "2  Bassey   19       History   3.9     2018-09-19    Male\n",
       "3    Dara   18      Forestry   1.8     2021-09-01  Female\n",
       "4   Wills   21           Law   2.9     2017-09-05    Male\n",
       "5    Jane   22         Music   3.8     2016-09-09  Female\n",
       "6   chris   24   Mathematics   4.5     2019-09-02    Male\n",
       "7    Cara   26     Chemistry   4.8     2020-09-28  Female\n",
       "8   Smith   25    Accounting   2.2     2020-09-16    Male\n",
       "9   Shola   28     Insurance   1.5     2017-09-13  Female"
      ]
     },
     "execution_count": 21,
     "metadata": {},
     "output_type": "execute_result"
    }
   ],
   "source": [
    "df"
   ]
  },
  {
   "cell_type": "code",
   "execution_count": 23,
   "id": "16069bb9",
   "metadata": {},
   "outputs": [],
   "source": [
    "df['year'] =(df['Admission_date']).dt.year"
   ]
  },
  {
   "cell_type": "code",
   "execution_count": 24,
   "id": "cbfa2e20",
   "metadata": {},
   "outputs": [
    {
     "data": {
      "text/html": [
       "<div>\n",
       "<style scoped>\n",
       "    .dataframe tbody tr th:only-of-type {\n",
       "        vertical-align: middle;\n",
       "    }\n",
       "\n",
       "    .dataframe tbody tr th {\n",
       "        vertical-align: top;\n",
       "    }\n",
       "\n",
       "    .dataframe thead th {\n",
       "        text-align: right;\n",
       "    }\n",
       "</style>\n",
       "<table border=\"1\" class=\"dataframe\">\n",
       "  <thead>\n",
       "    <tr style=\"text-align: right;\">\n",
       "      <th></th>\n",
       "      <th>Name</th>\n",
       "      <th>Age</th>\n",
       "      <th>Department</th>\n",
       "      <th>CGPA</th>\n",
       "      <th>Admission_date</th>\n",
       "      <th>Gender</th>\n",
       "      <th>year</th>\n",
       "    </tr>\n",
       "  </thead>\n",
       "  <tbody>\n",
       "    <tr>\n",
       "      <th>0</th>\n",
       "      <td>Bola</td>\n",
       "      <td>24</td>\n",
       "      <td>Biology</td>\n",
       "      <td>3.1</td>\n",
       "      <td>2021-09-14</td>\n",
       "      <td>Male</td>\n",
       "      <td>2021</td>\n",
       "    </tr>\n",
       "    <tr>\n",
       "      <th>1</th>\n",
       "      <td>Loveth</td>\n",
       "      <td>23</td>\n",
       "      <td>Biochemistry</td>\n",
       "      <td>4.2</td>\n",
       "      <td>2019-09-12</td>\n",
       "      <td>Female</td>\n",
       "      <td>2019</td>\n",
       "    </tr>\n",
       "    <tr>\n",
       "      <th>2</th>\n",
       "      <td>Bassey</td>\n",
       "      <td>19</td>\n",
       "      <td>History</td>\n",
       "      <td>3.9</td>\n",
       "      <td>2018-09-19</td>\n",
       "      <td>Male</td>\n",
       "      <td>2018</td>\n",
       "    </tr>\n",
       "    <tr>\n",
       "      <th>3</th>\n",
       "      <td>Dara</td>\n",
       "      <td>18</td>\n",
       "      <td>Forestry</td>\n",
       "      <td>1.8</td>\n",
       "      <td>2021-09-01</td>\n",
       "      <td>Female</td>\n",
       "      <td>2021</td>\n",
       "    </tr>\n",
       "    <tr>\n",
       "      <th>4</th>\n",
       "      <td>Wills</td>\n",
       "      <td>21</td>\n",
       "      <td>Law</td>\n",
       "      <td>2.9</td>\n",
       "      <td>2017-09-05</td>\n",
       "      <td>Male</td>\n",
       "      <td>2017</td>\n",
       "    </tr>\n",
       "    <tr>\n",
       "      <th>5</th>\n",
       "      <td>Jane</td>\n",
       "      <td>22</td>\n",
       "      <td>Music</td>\n",
       "      <td>3.8</td>\n",
       "      <td>2016-09-09</td>\n",
       "      <td>Female</td>\n",
       "      <td>2016</td>\n",
       "    </tr>\n",
       "    <tr>\n",
       "      <th>6</th>\n",
       "      <td>chris</td>\n",
       "      <td>24</td>\n",
       "      <td>Mathematics</td>\n",
       "      <td>4.5</td>\n",
       "      <td>2019-09-02</td>\n",
       "      <td>Male</td>\n",
       "      <td>2019</td>\n",
       "    </tr>\n",
       "    <tr>\n",
       "      <th>7</th>\n",
       "      <td>Cara</td>\n",
       "      <td>26</td>\n",
       "      <td>Chemistry</td>\n",
       "      <td>4.8</td>\n",
       "      <td>2020-09-28</td>\n",
       "      <td>Female</td>\n",
       "      <td>2020</td>\n",
       "    </tr>\n",
       "    <tr>\n",
       "      <th>8</th>\n",
       "      <td>Smith</td>\n",
       "      <td>25</td>\n",
       "      <td>Accounting</td>\n",
       "      <td>2.2</td>\n",
       "      <td>2020-09-16</td>\n",
       "      <td>Male</td>\n",
       "      <td>2020</td>\n",
       "    </tr>\n",
       "    <tr>\n",
       "      <th>9</th>\n",
       "      <td>Shola</td>\n",
       "      <td>28</td>\n",
       "      <td>Insurance</td>\n",
       "      <td>1.5</td>\n",
       "      <td>2017-09-13</td>\n",
       "      <td>Female</td>\n",
       "      <td>2017</td>\n",
       "    </tr>\n",
       "  </tbody>\n",
       "</table>\n",
       "</div>"
      ],
      "text/plain": [
       "     Name  Age    Department  CGPA Admission_date  Gender  year\n",
       "0    Bola   24       Biology   3.1     2021-09-14    Male  2021\n",
       "1  Loveth   23  Biochemistry   4.2     2019-09-12  Female  2019\n",
       "2  Bassey   19       History   3.9     2018-09-19    Male  2018\n",
       "3    Dara   18      Forestry   1.8     2021-09-01  Female  2021\n",
       "4   Wills   21           Law   2.9     2017-09-05    Male  2017\n",
       "5    Jane   22         Music   3.8     2016-09-09  Female  2016\n",
       "6   chris   24   Mathematics   4.5     2019-09-02    Male  2019\n",
       "7    Cara   26     Chemistry   4.8     2020-09-28  Female  2020\n",
       "8   Smith   25    Accounting   2.2     2020-09-16    Male  2020\n",
       "9   Shola   28     Insurance   1.5     2017-09-13  Female  2017"
      ]
     },
     "execution_count": 24,
     "metadata": {},
     "output_type": "execute_result"
    }
   ],
   "source": [
    "df"
   ]
  },
  {
   "cell_type": "code",
   "execution_count": 26,
   "id": "c529cb90",
   "metadata": {},
   "outputs": [],
   "source": [
    "df['month'] = (df['Admission_date']).dt.month"
   ]
  },
  {
   "cell_type": "code",
   "execution_count": 27,
   "id": "00fd4053",
   "metadata": {},
   "outputs": [
    {
     "data": {
      "text/html": [
       "<div>\n",
       "<style scoped>\n",
       "    .dataframe tbody tr th:only-of-type {\n",
       "        vertical-align: middle;\n",
       "    }\n",
       "\n",
       "    .dataframe tbody tr th {\n",
       "        vertical-align: top;\n",
       "    }\n",
       "\n",
       "    .dataframe thead th {\n",
       "        text-align: right;\n",
       "    }\n",
       "</style>\n",
       "<table border=\"1\" class=\"dataframe\">\n",
       "  <thead>\n",
       "    <tr style=\"text-align: right;\">\n",
       "      <th></th>\n",
       "      <th>Name</th>\n",
       "      <th>Age</th>\n",
       "      <th>Department</th>\n",
       "      <th>CGPA</th>\n",
       "      <th>Admission_date</th>\n",
       "      <th>Gender</th>\n",
       "      <th>year</th>\n",
       "      <th>month</th>\n",
       "    </tr>\n",
       "  </thead>\n",
       "  <tbody>\n",
       "    <tr>\n",
       "      <th>0</th>\n",
       "      <td>Bola</td>\n",
       "      <td>24</td>\n",
       "      <td>Biology</td>\n",
       "      <td>3.1</td>\n",
       "      <td>2021-09-14</td>\n",
       "      <td>Male</td>\n",
       "      <td>2021</td>\n",
       "      <td>9</td>\n",
       "    </tr>\n",
       "    <tr>\n",
       "      <th>1</th>\n",
       "      <td>Loveth</td>\n",
       "      <td>23</td>\n",
       "      <td>Biochemistry</td>\n",
       "      <td>4.2</td>\n",
       "      <td>2019-09-12</td>\n",
       "      <td>Female</td>\n",
       "      <td>2019</td>\n",
       "      <td>9</td>\n",
       "    </tr>\n",
       "    <tr>\n",
       "      <th>2</th>\n",
       "      <td>Bassey</td>\n",
       "      <td>19</td>\n",
       "      <td>History</td>\n",
       "      <td>3.9</td>\n",
       "      <td>2018-09-19</td>\n",
       "      <td>Male</td>\n",
       "      <td>2018</td>\n",
       "      <td>9</td>\n",
       "    </tr>\n",
       "    <tr>\n",
       "      <th>3</th>\n",
       "      <td>Dara</td>\n",
       "      <td>18</td>\n",
       "      <td>Forestry</td>\n",
       "      <td>1.8</td>\n",
       "      <td>2021-09-01</td>\n",
       "      <td>Female</td>\n",
       "      <td>2021</td>\n",
       "      <td>9</td>\n",
       "    </tr>\n",
       "    <tr>\n",
       "      <th>4</th>\n",
       "      <td>Wills</td>\n",
       "      <td>21</td>\n",
       "      <td>Law</td>\n",
       "      <td>2.9</td>\n",
       "      <td>2017-09-05</td>\n",
       "      <td>Male</td>\n",
       "      <td>2017</td>\n",
       "      <td>9</td>\n",
       "    </tr>\n",
       "    <tr>\n",
       "      <th>5</th>\n",
       "      <td>Jane</td>\n",
       "      <td>22</td>\n",
       "      <td>Music</td>\n",
       "      <td>3.8</td>\n",
       "      <td>2016-09-09</td>\n",
       "      <td>Female</td>\n",
       "      <td>2016</td>\n",
       "      <td>9</td>\n",
       "    </tr>\n",
       "    <tr>\n",
       "      <th>6</th>\n",
       "      <td>chris</td>\n",
       "      <td>24</td>\n",
       "      <td>Mathematics</td>\n",
       "      <td>4.5</td>\n",
       "      <td>2019-09-02</td>\n",
       "      <td>Male</td>\n",
       "      <td>2019</td>\n",
       "      <td>9</td>\n",
       "    </tr>\n",
       "    <tr>\n",
       "      <th>7</th>\n",
       "      <td>Cara</td>\n",
       "      <td>26</td>\n",
       "      <td>Chemistry</td>\n",
       "      <td>4.8</td>\n",
       "      <td>2020-09-28</td>\n",
       "      <td>Female</td>\n",
       "      <td>2020</td>\n",
       "      <td>9</td>\n",
       "    </tr>\n",
       "    <tr>\n",
       "      <th>8</th>\n",
       "      <td>Smith</td>\n",
       "      <td>25</td>\n",
       "      <td>Accounting</td>\n",
       "      <td>2.2</td>\n",
       "      <td>2020-09-16</td>\n",
       "      <td>Male</td>\n",
       "      <td>2020</td>\n",
       "      <td>9</td>\n",
       "    </tr>\n",
       "    <tr>\n",
       "      <th>9</th>\n",
       "      <td>Shola</td>\n",
       "      <td>28</td>\n",
       "      <td>Insurance</td>\n",
       "      <td>1.5</td>\n",
       "      <td>2017-09-13</td>\n",
       "      <td>Female</td>\n",
       "      <td>2017</td>\n",
       "      <td>9</td>\n",
       "    </tr>\n",
       "  </tbody>\n",
       "</table>\n",
       "</div>"
      ],
      "text/plain": [
       "     Name  Age    Department  CGPA Admission_date  Gender  year  month\n",
       "0    Bola   24       Biology   3.1     2021-09-14    Male  2021      9\n",
       "1  Loveth   23  Biochemistry   4.2     2019-09-12  Female  2019      9\n",
       "2  Bassey   19       History   3.9     2018-09-19    Male  2018      9\n",
       "3    Dara   18      Forestry   1.8     2021-09-01  Female  2021      9\n",
       "4   Wills   21           Law   2.9     2017-09-05    Male  2017      9\n",
       "5    Jane   22         Music   3.8     2016-09-09  Female  2016      9\n",
       "6   chris   24   Mathematics   4.5     2019-09-02    Male  2019      9\n",
       "7    Cara   26     Chemistry   4.8     2020-09-28  Female  2020      9\n",
       "8   Smith   25    Accounting   2.2     2020-09-16    Male  2020      9\n",
       "9   Shola   28     Insurance   1.5     2017-09-13  Female  2017      9"
      ]
     },
     "execution_count": 27,
     "metadata": {},
     "output_type": "execute_result"
    }
   ],
   "source": [
    "df"
   ]
  },
  {
   "cell_type": "code",
   "execution_count": 28,
   "id": "97b61cc6",
   "metadata": {},
   "outputs": [],
   "source": [
    "df['day']=(df['Admission_date']).dt.day"
   ]
  },
  {
   "cell_type": "code",
   "execution_count": 29,
   "id": "ebbdad26",
   "metadata": {},
   "outputs": [
    {
     "data": {
      "text/html": [
       "<div>\n",
       "<style scoped>\n",
       "    .dataframe tbody tr th:only-of-type {\n",
       "        vertical-align: middle;\n",
       "    }\n",
       "\n",
       "    .dataframe tbody tr th {\n",
       "        vertical-align: top;\n",
       "    }\n",
       "\n",
       "    .dataframe thead th {\n",
       "        text-align: right;\n",
       "    }\n",
       "</style>\n",
       "<table border=\"1\" class=\"dataframe\">\n",
       "  <thead>\n",
       "    <tr style=\"text-align: right;\">\n",
       "      <th></th>\n",
       "      <th>Name</th>\n",
       "      <th>Age</th>\n",
       "      <th>Department</th>\n",
       "      <th>CGPA</th>\n",
       "      <th>Admission_date</th>\n",
       "      <th>Gender</th>\n",
       "      <th>year</th>\n",
       "      <th>month</th>\n",
       "      <th>day</th>\n",
       "    </tr>\n",
       "  </thead>\n",
       "  <tbody>\n",
       "    <tr>\n",
       "      <th>0</th>\n",
       "      <td>Bola</td>\n",
       "      <td>24</td>\n",
       "      <td>Biology</td>\n",
       "      <td>3.1</td>\n",
       "      <td>2021-09-14</td>\n",
       "      <td>Male</td>\n",
       "      <td>2021</td>\n",
       "      <td>9</td>\n",
       "      <td>14</td>\n",
       "    </tr>\n",
       "    <tr>\n",
       "      <th>1</th>\n",
       "      <td>Loveth</td>\n",
       "      <td>23</td>\n",
       "      <td>Biochemistry</td>\n",
       "      <td>4.2</td>\n",
       "      <td>2019-09-12</td>\n",
       "      <td>Female</td>\n",
       "      <td>2019</td>\n",
       "      <td>9</td>\n",
       "      <td>12</td>\n",
       "    </tr>\n",
       "    <tr>\n",
       "      <th>2</th>\n",
       "      <td>Bassey</td>\n",
       "      <td>19</td>\n",
       "      <td>History</td>\n",
       "      <td>3.9</td>\n",
       "      <td>2018-09-19</td>\n",
       "      <td>Male</td>\n",
       "      <td>2018</td>\n",
       "      <td>9</td>\n",
       "      <td>19</td>\n",
       "    </tr>\n",
       "    <tr>\n",
       "      <th>3</th>\n",
       "      <td>Dara</td>\n",
       "      <td>18</td>\n",
       "      <td>Forestry</td>\n",
       "      <td>1.8</td>\n",
       "      <td>2021-09-01</td>\n",
       "      <td>Female</td>\n",
       "      <td>2021</td>\n",
       "      <td>9</td>\n",
       "      <td>1</td>\n",
       "    </tr>\n",
       "    <tr>\n",
       "      <th>4</th>\n",
       "      <td>Wills</td>\n",
       "      <td>21</td>\n",
       "      <td>Law</td>\n",
       "      <td>2.9</td>\n",
       "      <td>2017-09-05</td>\n",
       "      <td>Male</td>\n",
       "      <td>2017</td>\n",
       "      <td>9</td>\n",
       "      <td>5</td>\n",
       "    </tr>\n",
       "    <tr>\n",
       "      <th>5</th>\n",
       "      <td>Jane</td>\n",
       "      <td>22</td>\n",
       "      <td>Music</td>\n",
       "      <td>3.8</td>\n",
       "      <td>2016-09-09</td>\n",
       "      <td>Female</td>\n",
       "      <td>2016</td>\n",
       "      <td>9</td>\n",
       "      <td>9</td>\n",
       "    </tr>\n",
       "    <tr>\n",
       "      <th>6</th>\n",
       "      <td>chris</td>\n",
       "      <td>24</td>\n",
       "      <td>Mathematics</td>\n",
       "      <td>4.5</td>\n",
       "      <td>2019-09-02</td>\n",
       "      <td>Male</td>\n",
       "      <td>2019</td>\n",
       "      <td>9</td>\n",
       "      <td>2</td>\n",
       "    </tr>\n",
       "    <tr>\n",
       "      <th>7</th>\n",
       "      <td>Cara</td>\n",
       "      <td>26</td>\n",
       "      <td>Chemistry</td>\n",
       "      <td>4.8</td>\n",
       "      <td>2020-09-28</td>\n",
       "      <td>Female</td>\n",
       "      <td>2020</td>\n",
       "      <td>9</td>\n",
       "      <td>28</td>\n",
       "    </tr>\n",
       "    <tr>\n",
       "      <th>8</th>\n",
       "      <td>Smith</td>\n",
       "      <td>25</td>\n",
       "      <td>Accounting</td>\n",
       "      <td>2.2</td>\n",
       "      <td>2020-09-16</td>\n",
       "      <td>Male</td>\n",
       "      <td>2020</td>\n",
       "      <td>9</td>\n",
       "      <td>16</td>\n",
       "    </tr>\n",
       "    <tr>\n",
       "      <th>9</th>\n",
       "      <td>Shola</td>\n",
       "      <td>28</td>\n",
       "      <td>Insurance</td>\n",
       "      <td>1.5</td>\n",
       "      <td>2017-09-13</td>\n",
       "      <td>Female</td>\n",
       "      <td>2017</td>\n",
       "      <td>9</td>\n",
       "      <td>13</td>\n",
       "    </tr>\n",
       "  </tbody>\n",
       "</table>\n",
       "</div>"
      ],
      "text/plain": [
       "     Name  Age    Department  CGPA Admission_date  Gender  year  month  day\n",
       "0    Bola   24       Biology   3.1     2021-09-14    Male  2021      9   14\n",
       "1  Loveth   23  Biochemistry   4.2     2019-09-12  Female  2019      9   12\n",
       "2  Bassey   19       History   3.9     2018-09-19    Male  2018      9   19\n",
       "3    Dara   18      Forestry   1.8     2021-09-01  Female  2021      9    1\n",
       "4   Wills   21           Law   2.9     2017-09-05    Male  2017      9    5\n",
       "5    Jane   22         Music   3.8     2016-09-09  Female  2016      9    9\n",
       "6   chris   24   Mathematics   4.5     2019-09-02    Male  2019      9    2\n",
       "7    Cara   26     Chemistry   4.8     2020-09-28  Female  2020      9   28\n",
       "8   Smith   25    Accounting   2.2     2020-09-16    Male  2020      9   16\n",
       "9   Shola   28     Insurance   1.5     2017-09-13  Female  2017      9   13"
      ]
     },
     "execution_count": 29,
     "metadata": {},
     "output_type": "execute_result"
    }
   ],
   "source": [
    "df"
   ]
  },
  {
   "cell_type": "code",
   "execution_count": 30,
   "id": "194cd389",
   "metadata": {},
   "outputs": [
    {
     "data": {
      "text/plain": [
       "Name                      object\n",
       "Age                        int64\n",
       "Department                object\n",
       "CGPA                     float64\n",
       "Admission_date    datetime64[ns]\n",
       "Gender                    object\n",
       "year                       int64\n",
       "month                      int64\n",
       "day                        int64\n",
       "dtype: object"
      ]
     },
     "execution_count": 30,
     "metadata": {},
     "output_type": "execute_result"
    }
   ],
   "source": [
    "df.dtypes"
   ]
  },
  {
   "cell_type": "code",
   "execution_count": 33,
   "id": "b9b1f43d",
   "metadata": {},
   "outputs": [
    {
     "data": {
      "text/html": [
       "<div>\n",
       "<style scoped>\n",
       "    .dataframe tbody tr th:only-of-type {\n",
       "        vertical-align: middle;\n",
       "    }\n",
       "\n",
       "    .dataframe tbody tr th {\n",
       "        vertical-align: top;\n",
       "    }\n",
       "\n",
       "    .dataframe thead th {\n",
       "        text-align: right;\n",
       "    }\n",
       "</style>\n",
       "<table border=\"1\" class=\"dataframe\">\n",
       "  <thead>\n",
       "    <tr style=\"text-align: right;\">\n",
       "      <th></th>\n",
       "      <th>Name</th>\n",
       "      <th>Age</th>\n",
       "      <th>Department</th>\n",
       "      <th>CGPA</th>\n",
       "      <th>Admission_date</th>\n",
       "      <th>Gender</th>\n",
       "      <th>year</th>\n",
       "      <th>month</th>\n",
       "      <th>day</th>\n",
       "    </tr>\n",
       "  </thead>\n",
       "  <tbody>\n",
       "    <tr>\n",
       "      <th>0</th>\n",
       "      <td>False</td>\n",
       "      <td>False</td>\n",
       "      <td>False</td>\n",
       "      <td>False</td>\n",
       "      <td>False</td>\n",
       "      <td>False</td>\n",
       "      <td>False</td>\n",
       "      <td>False</td>\n",
       "      <td>False</td>\n",
       "    </tr>\n",
       "    <tr>\n",
       "      <th>1</th>\n",
       "      <td>False</td>\n",
       "      <td>False</td>\n",
       "      <td>False</td>\n",
       "      <td>False</td>\n",
       "      <td>False</td>\n",
       "      <td>False</td>\n",
       "      <td>False</td>\n",
       "      <td>False</td>\n",
       "      <td>False</td>\n",
       "    </tr>\n",
       "    <tr>\n",
       "      <th>2</th>\n",
       "      <td>False</td>\n",
       "      <td>False</td>\n",
       "      <td>False</td>\n",
       "      <td>False</td>\n",
       "      <td>False</td>\n",
       "      <td>False</td>\n",
       "      <td>False</td>\n",
       "      <td>False</td>\n",
       "      <td>False</td>\n",
       "    </tr>\n",
       "    <tr>\n",
       "      <th>3</th>\n",
       "      <td>False</td>\n",
       "      <td>False</td>\n",
       "      <td>False</td>\n",
       "      <td>False</td>\n",
       "      <td>False</td>\n",
       "      <td>False</td>\n",
       "      <td>False</td>\n",
       "      <td>False</td>\n",
       "      <td>False</td>\n",
       "    </tr>\n",
       "    <tr>\n",
       "      <th>4</th>\n",
       "      <td>False</td>\n",
       "      <td>False</td>\n",
       "      <td>False</td>\n",
       "      <td>False</td>\n",
       "      <td>False</td>\n",
       "      <td>False</td>\n",
       "      <td>False</td>\n",
       "      <td>False</td>\n",
       "      <td>False</td>\n",
       "    </tr>\n",
       "    <tr>\n",
       "      <th>5</th>\n",
       "      <td>False</td>\n",
       "      <td>False</td>\n",
       "      <td>False</td>\n",
       "      <td>False</td>\n",
       "      <td>False</td>\n",
       "      <td>False</td>\n",
       "      <td>False</td>\n",
       "      <td>False</td>\n",
       "      <td>False</td>\n",
       "    </tr>\n",
       "    <tr>\n",
       "      <th>6</th>\n",
       "      <td>False</td>\n",
       "      <td>False</td>\n",
       "      <td>False</td>\n",
       "      <td>False</td>\n",
       "      <td>False</td>\n",
       "      <td>False</td>\n",
       "      <td>False</td>\n",
       "      <td>False</td>\n",
       "      <td>False</td>\n",
       "    </tr>\n",
       "    <tr>\n",
       "      <th>7</th>\n",
       "      <td>False</td>\n",
       "      <td>False</td>\n",
       "      <td>False</td>\n",
       "      <td>False</td>\n",
       "      <td>False</td>\n",
       "      <td>False</td>\n",
       "      <td>False</td>\n",
       "      <td>False</td>\n",
       "      <td>False</td>\n",
       "    </tr>\n",
       "    <tr>\n",
       "      <th>8</th>\n",
       "      <td>False</td>\n",
       "      <td>False</td>\n",
       "      <td>False</td>\n",
       "      <td>False</td>\n",
       "      <td>False</td>\n",
       "      <td>False</td>\n",
       "      <td>False</td>\n",
       "      <td>False</td>\n",
       "      <td>False</td>\n",
       "    </tr>\n",
       "    <tr>\n",
       "      <th>9</th>\n",
       "      <td>False</td>\n",
       "      <td>False</td>\n",
       "      <td>False</td>\n",
       "      <td>False</td>\n",
       "      <td>False</td>\n",
       "      <td>False</td>\n",
       "      <td>False</td>\n",
       "      <td>False</td>\n",
       "      <td>False</td>\n",
       "    </tr>\n",
       "  </tbody>\n",
       "</table>\n",
       "</div>"
      ],
      "text/plain": [
       "    Name    Age  Department   CGPA  Admission_date  Gender   year  month  \\\n",
       "0  False  False       False  False           False   False  False  False   \n",
       "1  False  False       False  False           False   False  False  False   \n",
       "2  False  False       False  False           False   False  False  False   \n",
       "3  False  False       False  False           False   False  False  False   \n",
       "4  False  False       False  False           False   False  False  False   \n",
       "5  False  False       False  False           False   False  False  False   \n",
       "6  False  False       False  False           False   False  False  False   \n",
       "7  False  False       False  False           False   False  False  False   \n",
       "8  False  False       False  False           False   False  False  False   \n",
       "9  False  False       False  False           False   False  False  False   \n",
       "\n",
       "     day  \n",
       "0  False  \n",
       "1  False  \n",
       "2  False  \n",
       "3  False  \n",
       "4  False  \n",
       "5  False  \n",
       "6  False  \n",
       "7  False  \n",
       "8  False  \n",
       "9  False  "
      ]
     },
     "execution_count": 33,
     "metadata": {},
     "output_type": "execute_result"
    }
   ],
   "source": [
    "df.isna()"
   ]
  },
  {
   "cell_type": "code",
   "execution_count": 35,
   "id": "ad98f662",
   "metadata": {},
   "outputs": [
    {
     "data": {
      "text/plain": [
       "Name              0.0\n",
       "Age               0.0\n",
       "Department        0.0\n",
       "CGPA              0.0\n",
       "Admission_date    0.0\n",
       "Gender            0.0\n",
       "year              0.0\n",
       "month             0.0\n",
       "day               0.0\n",
       "dtype: float64"
      ]
     },
     "execution_count": 35,
     "metadata": {},
     "output_type": "execute_result"
    }
   ],
   "source": [
    "df.isnull().sum()*100/len(df)"
   ]
  },
  {
   "cell_type": "code",
   "execution_count": 38,
   "id": "293b4f5c",
   "metadata": {},
   "outputs": [
    {
     "data": {
      "text/plain": [
       "array(['Bola', 'Loveth', 'Bassey', 'Dara', 'Wills', 'Jane', 'chris',\n",
       "       'Cara', 'Smith', 'Shola'], dtype=object)"
      ]
     },
     "execution_count": 38,
     "metadata": {},
     "output_type": "execute_result"
    }
   ],
   "source": [
    "df.Name.unique()"
   ]
  },
  {
   "cell_type": "code",
   "execution_count": 39,
   "id": "6dd80746",
   "metadata": {},
   "outputs": [
    {
     "data": {
      "text/plain": [
       "array([24, 23, 19, 18, 21, 22, 26, 25, 28], dtype=int64)"
      ]
     },
     "execution_count": 39,
     "metadata": {},
     "output_type": "execute_result"
    }
   ],
   "source": [
    "df.Age.unique()"
   ]
  },
  {
   "cell_type": "code",
   "execution_count": 40,
   "id": "55dfc3bf",
   "metadata": {},
   "outputs": [
    {
     "data": {
      "text/plain": [
       "array(['Biology', 'Biochemistry', 'History', 'Forestry', 'Law', 'Music',\n",
       "       'Mathematics', 'Chemistry', 'Accounting', 'Insurance'],\n",
       "      dtype=object)"
      ]
     },
     "execution_count": 40,
     "metadata": {},
     "output_type": "execute_result"
    }
   ],
   "source": [
    "df.Department.unique()"
   ]
  },
  {
   "cell_type": "code",
   "execution_count": 42,
   "id": "ee364992",
   "metadata": {},
   "outputs": [
    {
     "data": {
      "text/plain": [
       "array([3.1, 4.2, 3.9, 1.8, 2.9, 3.8, 4.5, 4.8, 2.2, 1.5])"
      ]
     },
     "execution_count": 42,
     "metadata": {},
     "output_type": "execute_result"
    }
   ],
   "source": [
    "df.CGPA.unique()"
   ]
  },
  {
   "cell_type": "code",
   "execution_count": 43,
   "id": "73f5bcbe",
   "metadata": {},
   "outputs": [
    {
     "data": {
      "text/plain": [
       "array(['2021-09-14T00:00:00.000000000', '2019-09-12T00:00:00.000000000',\n",
       "       '2018-09-19T00:00:00.000000000', '2021-09-01T00:00:00.000000000',\n",
       "       '2017-09-05T00:00:00.000000000', '2016-09-09T00:00:00.000000000',\n",
       "       '2019-09-02T00:00:00.000000000', '2020-09-28T00:00:00.000000000',\n",
       "       '2020-09-16T00:00:00.000000000', '2017-09-13T00:00:00.000000000'],\n",
       "      dtype='datetime64[ns]')"
      ]
     },
     "execution_count": 43,
     "metadata": {},
     "output_type": "execute_result"
    }
   ],
   "source": [
    "df.Admission_date.unique()"
   ]
  },
  {
   "cell_type": "code",
   "execution_count": 44,
   "id": "55a6e4d3",
   "metadata": {},
   "outputs": [
    {
     "data": {
      "text/plain": [
       "array(['Male', 'Female'], dtype=object)"
      ]
     },
     "execution_count": 44,
     "metadata": {},
     "output_type": "execute_result"
    }
   ],
   "source": [
    "df.Gender.unique()"
   ]
  },
  {
   "cell_type": "code",
   "execution_count": 45,
   "id": "d1df91da",
   "metadata": {},
   "outputs": [
    {
     "data": {
      "text/plain": [
       "array([2021, 2019, 2018, 2017, 2016, 2020], dtype=int64)"
      ]
     },
     "execution_count": 45,
     "metadata": {},
     "output_type": "execute_result"
    }
   ],
   "source": [
    "df.year.unique()"
   ]
  },
  {
   "cell_type": "code",
   "execution_count": 46,
   "id": "01da2ddf",
   "metadata": {},
   "outputs": [
    {
     "data": {
      "text/plain": [
       "array([9], dtype=int64)"
      ]
     },
     "execution_count": 46,
     "metadata": {},
     "output_type": "execute_result"
    }
   ],
   "source": [
    "df.month.unique()"
   ]
  },
  {
   "cell_type": "code",
   "execution_count": 47,
   "id": "418ef61a",
   "metadata": {},
   "outputs": [
    {
     "data": {
      "text/plain": [
       "array([14, 12, 19,  1,  5,  9,  2, 28, 16, 13], dtype=int64)"
      ]
     },
     "execution_count": 47,
     "metadata": {},
     "output_type": "execute_result"
    }
   ],
   "source": [
    "df.day.unique()"
   ]
  },
  {
   "cell_type": "code",
   "execution_count": 49,
   "id": "8c2c9c81",
   "metadata": {},
   "outputs": [
    {
     "data": {
      "text/plain": [
       "10"
      ]
     },
     "execution_count": 49,
     "metadata": {},
     "output_type": "execute_result"
    }
   ],
   "source": [
    "df.Name.nunique()"
   ]
  },
  {
   "cell_type": "code",
   "execution_count": 50,
   "id": "382ac30a",
   "metadata": {},
   "outputs": [
    {
     "data": {
      "text/plain": [
       "9"
      ]
     },
     "execution_count": 50,
     "metadata": {},
     "output_type": "execute_result"
    }
   ],
   "source": [
    "df.Age.nunique()"
   ]
  },
  {
   "cell_type": "code",
   "execution_count": 51,
   "id": "58424465",
   "metadata": {},
   "outputs": [
    {
     "data": {
      "text/plain": [
       "10"
      ]
     },
     "execution_count": 51,
     "metadata": {},
     "output_type": "execute_result"
    }
   ],
   "source": [
    "df.Department.nunique()"
   ]
  },
  {
   "cell_type": "code",
   "execution_count": 54,
   "id": "f344143f",
   "metadata": {},
   "outputs": [
    {
     "data": {
      "text/plain": [
       "10"
      ]
     },
     "execution_count": 54,
     "metadata": {},
     "output_type": "execute_result"
    }
   ],
   "source": [
    "df.Admission_date.nunique()"
   ]
  },
  {
   "cell_type": "code",
   "execution_count": null,
   "id": "1c961f95",
   "metadata": {},
   "outputs": [],
   "source": [
    "df.CGPA.unique()"
   ]
  },
  {
   "cell_type": "code",
   "execution_count": 53,
   "id": "e45b7413",
   "metadata": {},
   "outputs": [
    {
     "data": {
      "text/plain": [
       "2"
      ]
     },
     "execution_count": 53,
     "metadata": {},
     "output_type": "execute_result"
    }
   ],
   "source": [
    "df.Gender.nunique()"
   ]
  },
  {
   "cell_type": "code",
   "execution_count": 55,
   "id": "e578ae8f",
   "metadata": {},
   "outputs": [
    {
     "data": {
      "text/plain": [
       "6"
      ]
     },
     "execution_count": 55,
     "metadata": {},
     "output_type": "execute_result"
    }
   ],
   "source": [
    "df.year.nunique()"
   ]
  },
  {
   "cell_type": "code",
   "execution_count": 56,
   "id": "9c51e095",
   "metadata": {},
   "outputs": [
    {
     "data": {
      "text/plain": [
       "1"
      ]
     },
     "execution_count": 56,
     "metadata": {},
     "output_type": "execute_result"
    }
   ],
   "source": [
    "df.month.nunique()"
   ]
  },
  {
   "cell_type": "code",
   "execution_count": 57,
   "id": "724bbad9",
   "metadata": {},
   "outputs": [
    {
     "data": {
      "text/plain": [
       "10"
      ]
     },
     "execution_count": 57,
     "metadata": {},
     "output_type": "execute_result"
    }
   ],
   "source": [
    "df.day.nunique()"
   ]
  },
  {
   "cell_type": "code",
   "execution_count": 58,
   "id": "e5507ce2",
   "metadata": {},
   "outputs": [
    {
     "data": {
      "text/plain": [
       "Bola      1\n",
       "Loveth    1\n",
       "Bassey    1\n",
       "Dara      1\n",
       "Wills     1\n",
       "Jane      1\n",
       "chris     1\n",
       "Cara      1\n",
       "Smith     1\n",
       "Shola     1\n",
       "Name: Name, dtype: int64"
      ]
     },
     "execution_count": 58,
     "metadata": {},
     "output_type": "execute_result"
    }
   ],
   "source": [
    "df.Name.value_counts()"
   ]
  },
  {
   "cell_type": "code",
   "execution_count": 59,
   "id": "8924e9b7",
   "metadata": {},
   "outputs": [
    {
     "data": {
      "text/plain": [
       "24    2\n",
       "23    1\n",
       "19    1\n",
       "18    1\n",
       "21    1\n",
       "22    1\n",
       "26    1\n",
       "25    1\n",
       "28    1\n",
       "Name: Age, dtype: int64"
      ]
     },
     "execution_count": 59,
     "metadata": {},
     "output_type": "execute_result"
    }
   ],
   "source": [
    "df.Age.value_counts()"
   ]
  },
  {
   "cell_type": "code",
   "execution_count": 60,
   "id": "61eea175",
   "metadata": {},
   "outputs": [
    {
     "data": {
      "text/plain": [
       "Biology         1\n",
       "Biochemistry    1\n",
       "History         1\n",
       "Forestry        1\n",
       "Law             1\n",
       "Music           1\n",
       "Mathematics     1\n",
       "Chemistry       1\n",
       "Accounting      1\n",
       "Insurance       1\n",
       "Name: Department, dtype: int64"
      ]
     },
     "execution_count": 60,
     "metadata": {},
     "output_type": "execute_result"
    }
   ],
   "source": [
    "df.Department.value_counts()"
   ]
  },
  {
   "cell_type": "code",
   "execution_count": 61,
   "id": "44c9b2d1",
   "metadata": {},
   "outputs": [
    {
     "data": {
      "text/plain": [
       "3.1    1\n",
       "4.2    1\n",
       "3.9    1\n",
       "1.8    1\n",
       "2.9    1\n",
       "3.8    1\n",
       "4.5    1\n",
       "4.8    1\n",
       "2.2    1\n",
       "1.5    1\n",
       "Name: CGPA, dtype: int64"
      ]
     },
     "execution_count": 61,
     "metadata": {},
     "output_type": "execute_result"
    }
   ],
   "source": [
    "df.CGPA.value_counts()"
   ]
  },
  {
   "cell_type": "code",
   "execution_count": 62,
   "id": "ffe66203",
   "metadata": {},
   "outputs": [
    {
     "data": {
      "text/plain": [
       "2021-09-14    1\n",
       "2019-09-12    1\n",
       "2018-09-19    1\n",
       "2021-09-01    1\n",
       "2017-09-05    1\n",
       "2016-09-09    1\n",
       "2019-09-02    1\n",
       "2020-09-28    1\n",
       "2020-09-16    1\n",
       "2017-09-13    1\n",
       "Name: Admission_date, dtype: int64"
      ]
     },
     "execution_count": 62,
     "metadata": {},
     "output_type": "execute_result"
    }
   ],
   "source": [
    "df.Admission_date.value_counts()"
   ]
  },
  {
   "cell_type": "code",
   "execution_count": 63,
   "id": "695a4acf",
   "metadata": {},
   "outputs": [
    {
     "data": {
      "text/plain": [
       "Male      5\n",
       "Female    5\n",
       "Name: Gender, dtype: int64"
      ]
     },
     "execution_count": 63,
     "metadata": {},
     "output_type": "execute_result"
    }
   ],
   "source": [
    "df.Gender.value_counts()"
   ]
  },
  {
   "cell_type": "code",
   "execution_count": 64,
   "id": "7edeb2a5",
   "metadata": {},
   "outputs": [
    {
     "data": {
      "text/plain": [
       "2021    2\n",
       "2019    2\n",
       "2017    2\n",
       "2020    2\n",
       "2018    1\n",
       "2016    1\n",
       "Name: year, dtype: int64"
      ]
     },
     "execution_count": 64,
     "metadata": {},
     "output_type": "execute_result"
    }
   ],
   "source": [
    "df.year.value_counts()"
   ]
  },
  {
   "cell_type": "code",
   "execution_count": 65,
   "id": "ce907363",
   "metadata": {},
   "outputs": [
    {
     "data": {
      "text/plain": [
       "9    10\n",
       "Name: month, dtype: int64"
      ]
     },
     "execution_count": 65,
     "metadata": {},
     "output_type": "execute_result"
    }
   ],
   "source": [
    "df.month.value_counts()"
   ]
  },
  {
   "cell_type": "code",
   "execution_count": 66,
   "id": "c590d04e",
   "metadata": {},
   "outputs": [
    {
     "data": {
      "text/plain": [
       "14    1\n",
       "12    1\n",
       "19    1\n",
       "1     1\n",
       "5     1\n",
       "9     1\n",
       "2     1\n",
       "28    1\n",
       "16    1\n",
       "13    1\n",
       "Name: day, dtype: int64"
      ]
     },
     "execution_count": 66,
     "metadata": {},
     "output_type": "execute_result"
    }
   ],
   "source": [
    "df.day.value_counts()"
   ]
  },
  {
   "cell_type": "code",
   "execution_count": 67,
   "id": "e5c8c824",
   "metadata": {},
   "outputs": [
    {
     "name": "stdout",
     "output_type": "stream",
     "text": [
      "<class 'pandas.core.frame.DataFrame'>\n",
      "RangeIndex: 10 entries, 0 to 9\n",
      "Data columns (total 9 columns):\n",
      " #   Column          Non-Null Count  Dtype         \n",
      "---  ------          --------------  -----         \n",
      " 0   Name            10 non-null     object        \n",
      " 1   Age             10 non-null     int64         \n",
      " 2   Department      10 non-null     object        \n",
      " 3   CGPA            10 non-null     float64       \n",
      " 4   Admission_date  10 non-null     datetime64[ns]\n",
      " 5   Gender          10 non-null     object        \n",
      " 6   year            10 non-null     int64         \n",
      " 7   month           10 non-null     int64         \n",
      " 8   day             10 non-null     int64         \n",
      "dtypes: datetime64[ns](1), float64(1), int64(4), object(3)\n",
      "memory usage: 848.0+ bytes\n"
     ]
    }
   ],
   "source": [
    "df.info()"
   ]
  },
  {
   "cell_type": "code",
   "execution_count": 68,
   "id": "2975909d",
   "metadata": {},
   "outputs": [
    {
     "data": {
      "text/html": [
       "<div>\n",
       "<style scoped>\n",
       "    .dataframe tbody tr th:only-of-type {\n",
       "        vertical-align: middle;\n",
       "    }\n",
       "\n",
       "    .dataframe tbody tr th {\n",
       "        vertical-align: top;\n",
       "    }\n",
       "\n",
       "    .dataframe thead th {\n",
       "        text-align: right;\n",
       "    }\n",
       "</style>\n",
       "<table border=\"1\" class=\"dataframe\">\n",
       "  <thead>\n",
       "    <tr style=\"text-align: right;\">\n",
       "      <th></th>\n",
       "      <th>Age</th>\n",
       "      <th>CGPA</th>\n",
       "      <th>year</th>\n",
       "      <th>month</th>\n",
       "      <th>day</th>\n",
       "    </tr>\n",
       "  </thead>\n",
       "  <tbody>\n",
       "    <tr>\n",
       "      <th>count</th>\n",
       "      <td>10.000000</td>\n",
       "      <td>10.000000</td>\n",
       "      <td>10.00000</td>\n",
       "      <td>10.0</td>\n",
       "      <td>10.000000</td>\n",
       "    </tr>\n",
       "    <tr>\n",
       "      <th>mean</th>\n",
       "      <td>23.000000</td>\n",
       "      <td>3.270000</td>\n",
       "      <td>2018.80000</td>\n",
       "      <td>9.0</td>\n",
       "      <td>11.900000</td>\n",
       "    </tr>\n",
       "    <tr>\n",
       "      <th>std</th>\n",
       "      <td>3.091206</td>\n",
       "      <td>1.154749</td>\n",
       "      <td>1.75119</td>\n",
       "      <td>0.0</td>\n",
       "      <td>8.198238</td>\n",
       "    </tr>\n",
       "    <tr>\n",
       "      <th>min</th>\n",
       "      <td>18.000000</td>\n",
       "      <td>1.500000</td>\n",
       "      <td>2016.00000</td>\n",
       "      <td>9.0</td>\n",
       "      <td>1.000000</td>\n",
       "    </tr>\n",
       "    <tr>\n",
       "      <th>25%</th>\n",
       "      <td>21.250000</td>\n",
       "      <td>2.375000</td>\n",
       "      <td>2017.25000</td>\n",
       "      <td>9.0</td>\n",
       "      <td>6.000000</td>\n",
       "    </tr>\n",
       "    <tr>\n",
       "      <th>50%</th>\n",
       "      <td>23.500000</td>\n",
       "      <td>3.450000</td>\n",
       "      <td>2019.00000</td>\n",
       "      <td>9.0</td>\n",
       "      <td>12.500000</td>\n",
       "    </tr>\n",
       "    <tr>\n",
       "      <th>75%</th>\n",
       "      <td>24.750000</td>\n",
       "      <td>4.125000</td>\n",
       "      <td>2020.00000</td>\n",
       "      <td>9.0</td>\n",
       "      <td>15.500000</td>\n",
       "    </tr>\n",
       "    <tr>\n",
       "      <th>max</th>\n",
       "      <td>28.000000</td>\n",
       "      <td>4.800000</td>\n",
       "      <td>2021.00000</td>\n",
       "      <td>9.0</td>\n",
       "      <td>28.000000</td>\n",
       "    </tr>\n",
       "  </tbody>\n",
       "</table>\n",
       "</div>"
      ],
      "text/plain": [
       "             Age       CGPA        year  month        day\n",
       "count  10.000000  10.000000    10.00000   10.0  10.000000\n",
       "mean   23.000000   3.270000  2018.80000    9.0  11.900000\n",
       "std     3.091206   1.154749     1.75119    0.0   8.198238\n",
       "min    18.000000   1.500000  2016.00000    9.0   1.000000\n",
       "25%    21.250000   2.375000  2017.25000    9.0   6.000000\n",
       "50%    23.500000   3.450000  2019.00000    9.0  12.500000\n",
       "75%    24.750000   4.125000  2020.00000    9.0  15.500000\n",
       "max    28.000000   4.800000  2021.00000    9.0  28.000000"
      ]
     },
     "execution_count": 68,
     "metadata": {},
     "output_type": "execute_result"
    }
   ],
   "source": [
    "df.describe()"
   ]
  },
  {
   "cell_type": "code",
   "execution_count": 69,
   "id": "773d9895",
   "metadata": {},
   "outputs": [
    {
     "data": {
      "text/html": [
       "<div>\n",
       "<style scoped>\n",
       "    .dataframe tbody tr th:only-of-type {\n",
       "        vertical-align: middle;\n",
       "    }\n",
       "\n",
       "    .dataframe tbody tr th {\n",
       "        vertical-align: top;\n",
       "    }\n",
       "\n",
       "    .dataframe thead th {\n",
       "        text-align: right;\n",
       "    }\n",
       "</style>\n",
       "<table border=\"1\" class=\"dataframe\">\n",
       "  <thead>\n",
       "    <tr style=\"text-align: right;\">\n",
       "      <th></th>\n",
       "      <th>count</th>\n",
       "      <th>mean</th>\n",
       "      <th>std</th>\n",
       "      <th>min</th>\n",
       "      <th>25%</th>\n",
       "      <th>50%</th>\n",
       "      <th>75%</th>\n",
       "      <th>max</th>\n",
       "    </tr>\n",
       "  </thead>\n",
       "  <tbody>\n",
       "    <tr>\n",
       "      <th>Age</th>\n",
       "      <td>10.0</td>\n",
       "      <td>23.00</td>\n",
       "      <td>3.091206</td>\n",
       "      <td>18.0</td>\n",
       "      <td>21.250</td>\n",
       "      <td>23.50</td>\n",
       "      <td>24.750</td>\n",
       "      <td>28.0</td>\n",
       "    </tr>\n",
       "    <tr>\n",
       "      <th>CGPA</th>\n",
       "      <td>10.0</td>\n",
       "      <td>3.27</td>\n",
       "      <td>1.154749</td>\n",
       "      <td>1.5</td>\n",
       "      <td>2.375</td>\n",
       "      <td>3.45</td>\n",
       "      <td>4.125</td>\n",
       "      <td>4.8</td>\n",
       "    </tr>\n",
       "    <tr>\n",
       "      <th>year</th>\n",
       "      <td>10.0</td>\n",
       "      <td>2018.80</td>\n",
       "      <td>1.751190</td>\n",
       "      <td>2016.0</td>\n",
       "      <td>2017.250</td>\n",
       "      <td>2019.00</td>\n",
       "      <td>2020.000</td>\n",
       "      <td>2021.0</td>\n",
       "    </tr>\n",
       "    <tr>\n",
       "      <th>month</th>\n",
       "      <td>10.0</td>\n",
       "      <td>9.00</td>\n",
       "      <td>0.000000</td>\n",
       "      <td>9.0</td>\n",
       "      <td>9.000</td>\n",
       "      <td>9.00</td>\n",
       "      <td>9.000</td>\n",
       "      <td>9.0</td>\n",
       "    </tr>\n",
       "    <tr>\n",
       "      <th>day</th>\n",
       "      <td>10.0</td>\n",
       "      <td>11.90</td>\n",
       "      <td>8.198238</td>\n",
       "      <td>1.0</td>\n",
       "      <td>6.000</td>\n",
       "      <td>12.50</td>\n",
       "      <td>15.500</td>\n",
       "      <td>28.0</td>\n",
       "    </tr>\n",
       "  </tbody>\n",
       "</table>\n",
       "</div>"
      ],
      "text/plain": [
       "       count     mean       std     min       25%      50%       75%     max\n",
       "Age     10.0    23.00  3.091206    18.0    21.250    23.50    24.750    28.0\n",
       "CGPA    10.0     3.27  1.154749     1.5     2.375     3.45     4.125     4.8\n",
       "year    10.0  2018.80  1.751190  2016.0  2017.250  2019.00  2020.000  2021.0\n",
       "month   10.0     9.00  0.000000     9.0     9.000     9.00     9.000     9.0\n",
       "day     10.0    11.90  8.198238     1.0     6.000    12.50    15.500    28.0"
      ]
     },
     "execution_count": 69,
     "metadata": {},
     "output_type": "execute_result"
    }
   ],
   "source": [
    "df.describe().T"
   ]
  },
  {
   "cell_type": "code",
   "execution_count": 72,
   "id": "ccfb1d00",
   "metadata": {},
   "outputs": [
    {
     "data": {
      "text/plain": [
       "10"
      ]
     },
     "execution_count": 72,
     "metadata": {},
     "output_type": "execute_result"
    }
   ],
   "source": [
    "df.shape[0]"
   ]
  },
  {
   "cell_type": "code",
   "execution_count": 73,
   "id": "ee7f9287",
   "metadata": {},
   "outputs": [
    {
     "data": {
      "text/plain": [
       "9"
      ]
     },
     "execution_count": 73,
     "metadata": {},
     "output_type": "execute_result"
    }
   ],
   "source": [
    "df.shape[1]"
   ]
  },
  {
   "cell_type": "code",
   "execution_count": 83,
   "id": "03412889",
   "metadata": {},
   "outputs": [
    {
     "data": {
      "text/html": [
       "<div>\n",
       "<style scoped>\n",
       "    .dataframe tbody tr th:only-of-type {\n",
       "        vertical-align: middle;\n",
       "    }\n",
       "\n",
       "    .dataframe tbody tr th {\n",
       "        vertical-align: top;\n",
       "    }\n",
       "\n",
       "    .dataframe thead th {\n",
       "        text-align: right;\n",
       "    }\n",
       "</style>\n",
       "<table border=\"1\" class=\"dataframe\">\n",
       "  <thead>\n",
       "    <tr style=\"text-align: right;\">\n",
       "      <th></th>\n",
       "      <th>Name</th>\n",
       "      <th>Age</th>\n",
       "      <th>Department</th>\n",
       "      <th>CGPA</th>\n",
       "      <th>Admission_date</th>\n",
       "      <th>Gender</th>\n",
       "      <th>year</th>\n",
       "      <th>month</th>\n",
       "      <th>day</th>\n",
       "    </tr>\n",
       "  </thead>\n",
       "  <tbody>\n",
       "    <tr>\n",
       "      <th>0</th>\n",
       "      <td>Bola</td>\n",
       "      <td>24</td>\n",
       "      <td>Biology</td>\n",
       "      <td>3.1</td>\n",
       "      <td>2021-09-14</td>\n",
       "      <td>Male</td>\n",
       "      <td>2021</td>\n",
       "      <td>9</td>\n",
       "      <td>14</td>\n",
       "    </tr>\n",
       "    <tr>\n",
       "      <th>2</th>\n",
       "      <td>Bassey</td>\n",
       "      <td>19</td>\n",
       "      <td>History</td>\n",
       "      <td>3.9</td>\n",
       "      <td>2018-09-19</td>\n",
       "      <td>Male</td>\n",
       "      <td>2018</td>\n",
       "      <td>9</td>\n",
       "      <td>19</td>\n",
       "    </tr>\n",
       "    <tr>\n",
       "      <th>4</th>\n",
       "      <td>Wills</td>\n",
       "      <td>21</td>\n",
       "      <td>Law</td>\n",
       "      <td>2.9</td>\n",
       "      <td>2017-09-05</td>\n",
       "      <td>Male</td>\n",
       "      <td>2017</td>\n",
       "      <td>9</td>\n",
       "      <td>5</td>\n",
       "    </tr>\n",
       "    <tr>\n",
       "      <th>6</th>\n",
       "      <td>chris</td>\n",
       "      <td>24</td>\n",
       "      <td>Mathematics</td>\n",
       "      <td>4.5</td>\n",
       "      <td>2019-09-02</td>\n",
       "      <td>Male</td>\n",
       "      <td>2019</td>\n",
       "      <td>9</td>\n",
       "      <td>2</td>\n",
       "    </tr>\n",
       "    <tr>\n",
       "      <th>8</th>\n",
       "      <td>Smith</td>\n",
       "      <td>25</td>\n",
       "      <td>Accounting</td>\n",
       "      <td>2.2</td>\n",
       "      <td>2020-09-16</td>\n",
       "      <td>Male</td>\n",
       "      <td>2020</td>\n",
       "      <td>9</td>\n",
       "      <td>16</td>\n",
       "    </tr>\n",
       "  </tbody>\n",
       "</table>\n",
       "</div>"
      ],
      "text/plain": [
       "     Name  Age   Department  CGPA Admission_date Gender  year  month  day\n",
       "0    Bola   24      Biology   3.1     2021-09-14   Male  2021      9   14\n",
       "2  Bassey   19      History   3.9     2018-09-19   Male  2018      9   19\n",
       "4   Wills   21          Law   2.9     2017-09-05   Male  2017      9    5\n",
       "6   chris   24  Mathematics   4.5     2019-09-02   Male  2019      9    2\n",
       "8   Smith   25   Accounting   2.2     2020-09-16   Male  2020      9   16"
      ]
     },
     "execution_count": 83,
     "metadata": {},
     "output_type": "execute_result"
    }
   ],
   "source": [
    "df.query('Gender == \"Male\"')"
   ]
  },
  {
   "cell_type": "code",
   "execution_count": 92,
   "id": "365ee913",
   "metadata": {},
   "outputs": [
    {
     "data": {
      "text/plain": [
       "4.8"
      ]
     },
     "execution_count": 92,
     "metadata": {},
     "output_type": "execute_result"
    }
   ],
   "source": [
    "df['CGPA'].max(axis=0)"
   ]
  },
  {
   "cell_type": "code",
   "execution_count": 93,
   "id": "3031587f",
   "metadata": {},
   "outputs": [
    {
     "data": {
      "text/plain": [
       "1.5"
      ]
     },
     "execution_count": 93,
     "metadata": {},
     "output_type": "execute_result"
    }
   ],
   "source": [
    "df['CGPA'].min(axis=0)"
   ]
  },
  {
   "cell_type": "code",
   "execution_count": 94,
   "id": "626b5a86",
   "metadata": {},
   "outputs": [
    {
     "data": {
      "text/plain": [
       "3.2700000000000005"
      ]
     },
     "execution_count": 94,
     "metadata": {},
     "output_type": "execute_result"
    }
   ],
   "source": [
    "df['CGPA'].mean(axis=0)"
   ]
  },
  {
   "cell_type": "code",
   "execution_count": 95,
   "id": "7a3919d2",
   "metadata": {},
   "outputs": [
    {
     "data": {
      "text/plain": [
       "32.7"
      ]
     },
     "execution_count": 95,
     "metadata": {},
     "output_type": "execute_result"
    }
   ],
   "source": [
    "df['CGPA'].sum(axis=0)"
   ]
  },
  {
   "cell_type": "code",
   "execution_count": 96,
   "id": "043f0c2a",
   "metadata": {},
   "outputs": [
    {
     "data": {
      "text/html": [
       "<div>\n",
       "<style scoped>\n",
       "    .dataframe tbody tr th:only-of-type {\n",
       "        vertical-align: middle;\n",
       "    }\n",
       "\n",
       "    .dataframe tbody tr th {\n",
       "        vertical-align: top;\n",
       "    }\n",
       "\n",
       "    .dataframe thead th {\n",
       "        text-align: right;\n",
       "    }\n",
       "</style>\n",
       "<table border=\"1\" class=\"dataframe\">\n",
       "  <thead>\n",
       "    <tr style=\"text-align: right;\">\n",
       "      <th></th>\n",
       "      <th>Name</th>\n",
       "      <th>Age</th>\n",
       "      <th>Department</th>\n",
       "      <th>CGPA</th>\n",
       "      <th>Admission_date</th>\n",
       "      <th>Gender</th>\n",
       "      <th>year</th>\n",
       "      <th>month</th>\n",
       "      <th>day</th>\n",
       "    </tr>\n",
       "  </thead>\n",
       "  <tbody>\n",
       "    <tr>\n",
       "      <th>0</th>\n",
       "      <td>Bola</td>\n",
       "      <td>24</td>\n",
       "      <td>Biology</td>\n",
       "      <td>3.1</td>\n",
       "      <td>2021-09-14</td>\n",
       "      <td>Male</td>\n",
       "      <td>2021</td>\n",
       "      <td>9</td>\n",
       "      <td>14</td>\n",
       "    </tr>\n",
       "    <tr>\n",
       "      <th>1</th>\n",
       "      <td>Loveth</td>\n",
       "      <td>23</td>\n",
       "      <td>Biochemistry</td>\n",
       "      <td>4.2</td>\n",
       "      <td>2019-09-12</td>\n",
       "      <td>Female</td>\n",
       "      <td>2019</td>\n",
       "      <td>9</td>\n",
       "      <td>12</td>\n",
       "    </tr>\n",
       "    <tr>\n",
       "      <th>2</th>\n",
       "      <td>Bassey</td>\n",
       "      <td>19</td>\n",
       "      <td>History</td>\n",
       "      <td>3.9</td>\n",
       "      <td>2018-09-19</td>\n",
       "      <td>Male</td>\n",
       "      <td>2018</td>\n",
       "      <td>9</td>\n",
       "      <td>19</td>\n",
       "    </tr>\n",
       "    <tr>\n",
       "      <th>3</th>\n",
       "      <td>Dara</td>\n",
       "      <td>18</td>\n",
       "      <td>Forestry</td>\n",
       "      <td>1.8</td>\n",
       "      <td>2021-09-01</td>\n",
       "      <td>Female</td>\n",
       "      <td>2021</td>\n",
       "      <td>9</td>\n",
       "      <td>1</td>\n",
       "    </tr>\n",
       "    <tr>\n",
       "      <th>4</th>\n",
       "      <td>Wills</td>\n",
       "      <td>21</td>\n",
       "      <td>Law</td>\n",
       "      <td>2.9</td>\n",
       "      <td>2017-09-05</td>\n",
       "      <td>Male</td>\n",
       "      <td>2017</td>\n",
       "      <td>9</td>\n",
       "      <td>5</td>\n",
       "    </tr>\n",
       "    <tr>\n",
       "      <th>5</th>\n",
       "      <td>Jane</td>\n",
       "      <td>22</td>\n",
       "      <td>Music</td>\n",
       "      <td>3.8</td>\n",
       "      <td>2016-09-09</td>\n",
       "      <td>Female</td>\n",
       "      <td>2016</td>\n",
       "      <td>9</td>\n",
       "      <td>9</td>\n",
       "    </tr>\n",
       "    <tr>\n",
       "      <th>6</th>\n",
       "      <td>chris</td>\n",
       "      <td>24</td>\n",
       "      <td>Mathematics</td>\n",
       "      <td>4.5</td>\n",
       "      <td>2019-09-02</td>\n",
       "      <td>Male</td>\n",
       "      <td>2019</td>\n",
       "      <td>9</td>\n",
       "      <td>2</td>\n",
       "    </tr>\n",
       "    <tr>\n",
       "      <th>7</th>\n",
       "      <td>Cara</td>\n",
       "      <td>26</td>\n",
       "      <td>Chemistry</td>\n",
       "      <td>4.8</td>\n",
       "      <td>2020-09-28</td>\n",
       "      <td>Female</td>\n",
       "      <td>2020</td>\n",
       "      <td>9</td>\n",
       "      <td>28</td>\n",
       "    </tr>\n",
       "    <tr>\n",
       "      <th>8</th>\n",
       "      <td>Smith</td>\n",
       "      <td>25</td>\n",
       "      <td>Accounting</td>\n",
       "      <td>2.2</td>\n",
       "      <td>2020-09-16</td>\n",
       "      <td>Male</td>\n",
       "      <td>2020</td>\n",
       "      <td>9</td>\n",
       "      <td>16</td>\n",
       "    </tr>\n",
       "    <tr>\n",
       "      <th>9</th>\n",
       "      <td>Shola</td>\n",
       "      <td>28</td>\n",
       "      <td>Insurance</td>\n",
       "      <td>1.5</td>\n",
       "      <td>2017-09-13</td>\n",
       "      <td>Female</td>\n",
       "      <td>2017</td>\n",
       "      <td>9</td>\n",
       "      <td>13</td>\n",
       "    </tr>\n",
       "  </tbody>\n",
       "</table>\n",
       "</div>"
      ],
      "text/plain": [
       "     Name  Age    Department  CGPA Admission_date  Gender  year  month  day\n",
       "0    Bola   24       Biology   3.1     2021-09-14    Male  2021      9   14\n",
       "1  Loveth   23  Biochemistry   4.2     2019-09-12  Female  2019      9   12\n",
       "2  Bassey   19       History   3.9     2018-09-19    Male  2018      9   19\n",
       "3    Dara   18      Forestry   1.8     2021-09-01  Female  2021      9    1\n",
       "4   Wills   21           Law   2.9     2017-09-05    Male  2017      9    5\n",
       "5    Jane   22         Music   3.8     2016-09-09  Female  2016      9    9\n",
       "6   chris   24   Mathematics   4.5     2019-09-02    Male  2019      9    2\n",
       "7    Cara   26     Chemistry   4.8     2020-09-28  Female  2020      9   28\n",
       "8   Smith   25    Accounting   2.2     2020-09-16    Male  2020      9   16\n",
       "9   Shola   28     Insurance   1.5     2017-09-13  Female  2017      9   13"
      ]
     },
     "execution_count": 96,
     "metadata": {},
     "output_type": "execute_result"
    }
   ],
   "source": [
    "df"
   ]
  },
  {
   "cell_type": "code",
   "execution_count": 98,
   "id": "334ff1be",
   "metadata": {},
   "outputs": [],
   "source": [
    " df.to_csv('df.csv',index = False)"
   ]
  },
  {
   "cell_type": "code",
   "execution_count": null,
   "id": "85c3e1c4",
   "metadata": {},
   "outputs": [],
   "source": []
  }
 ],
 "metadata": {
  "kernelspec": {
   "display_name": "Python 3 (ipykernel)",
   "language": "python",
   "name": "python3"
  },
  "language_info": {
   "codemirror_mode": {
    "name": "ipython",
    "version": 3
   },
   "file_extension": ".py",
   "mimetype": "text/x-python",
   "name": "python",
   "nbconvert_exporter": "python",
   "pygments_lexer": "ipython3",
   "version": "3.9.7"
  }
 },
 "nbformat": 4,
 "nbformat_minor": 5
}
